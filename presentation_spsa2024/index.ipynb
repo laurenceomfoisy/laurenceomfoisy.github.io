{
  "cells": [
    {
      "cell_type": "raw",
      "metadata": {},
      "source": [
        "---\n",
        "title: \"Ain't No Party Like a GPT Party\"\n",
        "subtitle: \"Assessing GPT-4 Political Alignment Classification Capabilities\"\n",
        "author: \"Laurence-Olivier M. Foisy, \"\n",
        "institute: \"Université Laval\"\n",
        "format:\n",
        "  revealjs: \n",
        "    theme: night\n",
        "    logo: images/ul_logo.png\n",
        "    footer: \"Ain't No Party Like a GPT Party\"\n",
        "---"
      ],
      "id": "4fd15260"
    },
    {
      "cell_type": "markdown",
      "metadata": {},
      "source": [
        "# Can we rely on ChatGPT to correctly classify political parties' ideologies?{.center}\n",
        "\n",
        "\n",
        "```{css}\n",
        ".center h1 {\n",
        "  text-align: center;\n",
        "}\n",
        "```\n",
        "\n",
        "\n",
        "::: {.notes}\n",
        "We use ChatGPT daily, it's an incredible tool for us researcher to help find information quickly but can GPT do this?\n",
        ":::\n",
        "\n",
        "## ChatGPT and the rise of AI\n",
        "### Context \n",
        "ChatGPT grew extremely fast, google searches are going down\n",
        "\n",
        "### Purpose\n",
        "Gain a greater understanding of ChatGPT\n",
        "\n",
        "## Party Systems and Party Positioning\n",
        "\n",
        "- Number of parties\n",
        "- Dynamic\n",
        "- Adaptive\n",
        "- Influenced by national context\n",
        "- Voter alignment\n",
        "- Party identification\n",
        "\n",
        "::: {.notes}\n",
        "Notes\n",
        ":::\n",
        "\n",
        "## LLM\n",
        "\n",
        "- Biases from guardrails\n",
        "- Biases from the programming of the algorithm itself\n",
        "- Biases from training data - Example: It's may\n",
        "\n",
        "## Question\n",
        "\n",
        "Is ChatGPT able to provide reliable and trustworthy information regarding the ideological positioning of political parties?\n",
        "\n",
        "### Hypotheses\n",
        "- (H1) There will be a significant discrepancy between the party positioning as determined by GPT-4 and the assessments made by expert political scientists.\n",
        "- (H2) GPT-4 will demonstrate greater accuracy in positioning Western political parties as compared to parties from non-Western regions.\n",
        "- (H3) GPT-4 will exhibit a better performance in accurately positioning left-wing parties.\n",
        "- (H4) GPT-4 will be more adept at positioning major, well-established political parties compared to smaller or lesser-known parties.\n",
        "\n",
        "## Methodology\n",
        "\n",
        ":::: {.columns}\n",
        "\n",
        "::: {.column width=\"50%\"}\n",
        "\n",
        "### Global Party Survey\n",
        "\n",
        "#### Economic left-right scale\n",
        "\n",
        "#### Social liberal-conservative scale\n",
        ":::\n",
        "\n",
        "::: {.column width=\"50%\"}\n",
        "\n",
        "### GPT-4\n",
        "\n",
        "#### Why GPT-4 ?\n",
        "\n",
        "#### Prompt\n",
        "\n",
        ":::\n",
        "\n",
        "::::"
      ],
      "id": "934de2f8"
    },
    {
      "cell_type": "raw",
      "metadata": {},
      "source": [
        "---\n",
        "\n",
        "![Mean Differences from Paired T-Tests](graphs/h1_ttest.png)\n",
        "\n",
        "\n",
        "---"
      ],
      "id": "cae372a4"
    },
    {
      "cell_type": "markdown",
      "metadata": {},
      "source": [
        "![scatterplot](graphs/h1_scatterplot.png)"
      ],
      "id": "cfc8c15d"
    },
    {
      "cell_type": "raw",
      "metadata": {},
      "source": [
        "---\n",
        "\n",
        "![Mean Distance Between Party Alignments from GPT-4 and GPS by Region](graphs/h2_barplot.png)\n",
        "\n",
        "---"
      ],
      "id": "ea15e19b"
    },
    {
      "cell_type": "markdown",
      "metadata": {},
      "source": [
        "![Distribution between GPS and GPT-4 Classifications by Scale](graphs/h3_barplot.png)\n",
        "\n",
        "----\n",
        "\n",
        "![Mean Distance Between Party Alignments from GPT-4 and GPS by Party Size](graphs/h3_distggridges.png)"
      ],
      "id": "902dac26"
    },
    {
      "cell_type": "raw",
      "metadata": {},
      "source": [
        "---\n",
        "\n",
        "![Mean Distance Between Party Alignments between GPS and GPT-4 Classifications by Party Size](graphs/h4_barplot.png)\n",
        "\n",
        "---"
      ],
      "id": "4887fc3e"
    },
    {
      "cell_type": "markdown",
      "metadata": {},
      "source": [
        "## Findings\n",
        "### Real world impacts\n",
        "People might use generative AI to make sense of politics since it's so good at summarizing information.\n",
        "\n",
        "## Limitations\n",
        "- Linguistic limitations\n",
        "- Prompt engineering\n",
        "- No context\n",
        "- Relying on the GPS alone\n",
        "\n",
        "## Future of AI in political science\n",
        "\n",
        "## Conclusion\n",
        "\n",
        "Is ChatGPT able to provide reliable and trustworthy information regarding the ideological positioning of political parties?\n",
        "\n",
        "Highly subjective. I would say yes but only if we're able to understand the limitations.\n",
        "\n",
        "::: {.notes}\n",
        "Notes\n",
        ":::\n",
        "\n",
        "# Thank You."
      ],
      "id": "b57debf1"
    }
  ],
  "metadata": {
    "kernelspec": {
      "display_name": "Python 3",
      "language": "python",
      "name": "python3"
    }
  },
  "nbformat": 4,
  "nbformat_minor": 5
}